{
 "cells": [
  {
   "cell_type": "markdown",
   "metadata": {},
   "source": [
    "# 2012/2013 California Household Travel Survey Geo-coding Engine\n",
    "\n",
    "## Purpose\n",
    "Geo-code locations in the 2012/2013 CHTS to geographies from *Travel Model One* and *Travel Model Two*.\n",
    "\n",
    "## Status\n",
    "Seems to be working.\n",
    "\n",
    "`TODO` Manually check a handful of results\n",
    "\n",
    "## Versions\n",
    "*Travel Model One*:  Stable TAZ 1454 System\n",
    "\n",
    "*Travel Model Two*:  Version 1.0 of the MAZ + TAZ system, Geo-database provided by PB: `mtctm2zonesRevised` renamed `mtctm2zonesv10`\n"
   ]
  },
  {
   "cell_type": "code",
   "execution_count": 1,
   "metadata": {},
   "outputs": [],
   "source": [
    "tm1_geodatabase = 'CSV_TAZ.gdb'\n",
    "tm2_geodatabase = 'mtctm2zonesv10.gdb'"
   ]
  },
  {
   "cell_type": "markdown",
   "metadata": {},
   "source": [
    "## Execution Steps\n",
    "\n",
    "### Globals"
   ]
  },
  {
   "cell_type": "code",
   "execution_count": 2,
   "metadata": {},
   "outputs": [],
   "source": [
    "workspace = 'M:/Data/HomeInterview/2010/Geocoding Engine/'"
   ]
  },
  {
   "cell_type": "markdown",
   "metadata": {},
   "source": [
    "### Input Files\n",
    "\n",
    "#### 01 Place File"
   ]
  },
  {
   "cell_type": "code",
   "execution_count": 3,
   "metadata": {},
   "outputs": [],
   "source": [
    "input_file_name = 'chts2010_place_locations.csv'\n",
    "x_field         = 'dXCORD'\n",
    "y_field         = 'dYCORD'\n",
    "keep_fields     = ['SAMPN','PERNO','PLANO','dXCORD','dYCORD','MAZ_ORIGINAL','TAZ_ORIGINAL','TAZ1454']\n",
    "output_file_name = 'chts2010_place_locations_geo_tm2.csv'"
   ]
  },
  {
   "cell_type": "code",
   "execution_count": 4,
   "metadata": {},
   "outputs": [
    {
     "name": "stdout",
     "output_type": "stream",
     "text": [
      "Step 0:   Processing chts2010_place_locations.csv ...\n",
      "Step 1:   Geo-coding to Travel Model Two Geographies ...\n",
      "Step 1a:  XY event layer created ...\n",
      "Step 1b:  Copying features ...\n",
      "Step 1c:  Geo-coded points to MAZ and TAZ boundaries ...\n",
      "Step 1d:  Write to M:/Data/HomeInterview/2010/Geocoding Engine/gis_geocode.csv ...\n",
      "Step 1e:  Write to M:/Data/HomeInterview/2010/Geocoding Engine/chts2010_place_locations_geo_tm2.csv ...\n",
      "Finished:  OnBoardGeocoding for chts2010_place_locations.csv.\n",
      "\n",
      "\n"
     ]
    }
   ],
   "source": [
    "%run -i NotebookGoGeocodeTravelModelTwo.py"
   ]
  },
  {
   "cell_type": "code",
   "execution_count": 5,
   "metadata": {},
   "outputs": [],
   "source": [
    "input_file_name = 'chts2010_place_locations.csv'\n",
    "x_field         = 'dXCORD'\n",
    "y_field         = 'dYCORD'\n",
    "keep_fields     = ['SAMPN','PERNO','PLANO','dXCORD','dYCORD','MAZ_ORIGINAL','TAZ_ORIGINAL','TAZ1454']\n",
    "output_file_name = 'chts2010_place_locations_geo_tm1.csv'"
   ]
  },
  {
   "cell_type": "code",
   "execution_count": 6,
   "metadata": {},
   "outputs": [
    {
     "name": "stdout",
     "output_type": "stream",
     "text": [
      "Step 0:   Processing chts2010_place_locations.csv ...\n",
      "\n",
      "Step 2:   Geo-coding to Travel Model One Geographies ...\n",
      "Step 2a:  XY event layer created ...\n",
      "Step 2b:  Copying features ...\n",
      "Step 2c:  Geo-coded points to TAZ boundaries ...\n",
      "Step 2d:  Write to M:/Data/HomeInterview/2010/Geocoding Engine/gis_geocode.csv ...\n",
      "Step 2e:  Write to M:/Data/HomeInterview/2010/Geocoding Engine/chts2010_place_locations_geo_tm1.csv ...\n",
      "Finished:  OnBoardGeocoding for chts2010_place_locations.csv.\n",
      "\n",
      "\n"
     ]
    }
   ],
   "source": [
    "%run -i NotebookGoGeocodeTravelModelOne.py "
   ]
  },
  {
   "cell_type": "markdown",
   "metadata": {},
   "source": [
    "#### 02 Household File"
   ]
  },
  {
   "cell_type": "code",
   "execution_count": null,
   "metadata": {},
   "outputs": [],
   "source": [
    "input_file_name = 'chts2010_home_locations.csv'\n",
    "x_field         = 'HXCORD'\n",
    "y_field         = 'HYCORD'\n",
    "keep_fields     = ['SAMPN','HXCORD','HYCORD','MAZ_ORIGINAL','TAZ_ORIGINAL','TAZ1454']\n",
    "output_file_name = 'chts2010_home_locations_geo_tm2.csv'"
   ]
  },
  {
   "cell_type": "code",
   "execution_count": null,
   "metadata": {},
   "outputs": [],
   "source": [
    "%run -i NotebookGoGeocodeTravelModelTwo.py"
   ]
  },
  {
   "cell_type": "code",
   "execution_count": null,
   "metadata": {},
   "outputs": [],
   "source": [
    "input_file_name = 'chts2010_home_locations.csv'\n",
    "x_field         = 'HXCORD'\n",
    "y_field         = 'HYCORD'\n",
    "keep_fields     = ['SAMPN','HXCORD','HYCORD','MAZ_ORIGINAL','TAZ_ORIGINAL','TAZ1454']\n",
    "output_file_name = 'chts2010_home_locations_geo_tm1.csv'"
   ]
  },
  {
   "cell_type": "code",
   "execution_count": null,
   "metadata": {},
   "outputs": [],
   "source": [
    "%run -i NotebookGoGeocodeTravelModelOne.py"
   ]
  },
  {
   "cell_type": "markdown",
   "metadata": {},
   "source": [
    "#### 03 School Locations File\n",
    "An odd bug in the `arcpy` call came up when running the combined script.  The individual scripts seem to work fine.  I then manually combined in Excel."
   ]
  },
  {
   "cell_type": "code",
   "execution_count": null,
   "metadata": {},
   "outputs": [],
   "source": [
    "input_file_name = 'chts2010_schl_locations.csv'\n",
    "x_field         = 'SXCORD'\n",
    "y_field         = 'SYCORD'\n",
    "keep_fields     = ['SAMPN','PERNO','SXCORD','SYCORD','MAZ_ORIGINAL','TAZ_ORIGINAL','TAZ1454']\n",
    "output_file_name = 'chts2010_schl_locations_geo_tm2.csv'"
   ]
  },
  {
   "cell_type": "code",
   "execution_count": null,
   "metadata": {},
   "outputs": [],
   "source": [
    "%run -i NotebookGoGeocodeTravelModelTwo.py"
   ]
  },
  {
   "cell_type": "code",
   "execution_count": null,
   "metadata": {},
   "outputs": [],
   "source": [
    "input_file_name = 'chts2010_schl_locations.csv'\n",
    "x_field         = 'SXCORD'\n",
    "y_field         = 'SYCORD'\n",
    "keep_fields     = ['SAMPN','PERNO','SXCORD','SYCORD','MAZ_ORIGINAL','TAZ_ORIGINAL','TAZ1454']\n",
    "output_file_name = 'chts2010_schl_locations_geo_tm1.csv'"
   ]
  },
  {
   "cell_type": "code",
   "execution_count": null,
   "metadata": {},
   "outputs": [],
   "source": [
    "%run -i NotebookGoGeocodeTravelModelOne.py "
   ]
  },
  {
   "cell_type": "markdown",
   "metadata": {},
   "source": [
    "#### 04 Work Locations\n",
    "An odd bug in the `arcpy` call came up when running the combined script.  The individual scripts seem to work fine.  I then manually combined in Excel."
   ]
  },
  {
   "cell_type": "code",
   "execution_count": null,
   "metadata": {},
   "outputs": [],
   "source": [
    "input_file_name = 'chts2010_work_locations.csv'\n",
    "x_field         = 'WXCORD'\n",
    "y_field         = 'WYCORD'\n",
    "keep_fields     = ['SAMPN','PERNO','WXCORD','WYCORD','MAZ_ORIGINAL','TAZ_ORIGINAL','TAZ1454']\n",
    "output_file_name = 'chts2010_work_locations_geo_tm2.csv'"
   ]
  },
  {
   "cell_type": "code",
   "execution_count": null,
   "metadata": {},
   "outputs": [],
   "source": [
    "%run -i NotebookGoGeocodeTravelModelTwo.py"
   ]
  },
  {
   "cell_type": "code",
   "execution_count": null,
   "metadata": {},
   "outputs": [],
   "source": [
    "input_file_name = 'chts2010_work_locations.csv'\n",
    "x_field         = 'WXCORD'\n",
    "y_field         = 'WYCORD'\n",
    "keep_fields     = ['SAMPN','PERNO','WXCORD','WYCORD','MAZ_ORIGINAL','TAZ_ORIGINAL','TAZ1454']\n",
    "output_file_name = 'chts2010_work_locations_geo_tm1.csv'"
   ]
  },
  {
   "cell_type": "code",
   "execution_count": null,
   "metadata": {},
   "outputs": [],
   "source": [
    "%run -i NotebookGoGeocodeTravelModelOne.py "
   ]
  }
 ],
 "metadata": {
  "kernelspec": {
   "display_name": "Python 3",
   "language": "python",
   "name": "python3"
  },
  "language_info": {
   "codemirror_mode": {
    "name": "ipython",
    "version": 3
   },
   "file_extension": ".py",
   "mimetype": "text/x-python",
   "name": "python",
   "nbconvert_exporter": "python",
   "pygments_lexer": "ipython3",
   "version": "3.6.5"
  }
 },
 "nbformat": 4,
 "nbformat_minor": 1
}
