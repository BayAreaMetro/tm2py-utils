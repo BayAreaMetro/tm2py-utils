{
 "metadata": {
  "name": ""
 },
 "nbformat": 3,
 "nbformat_minor": 0,
 "worksheets": [
  {
   "cells": [
    {
     "cell_type": "markdown",
     "metadata": {},
     "source": [
      "# 2012/2013 California Household Travel Survey Geo-coding Engine\n",
      "\n",
      "## Purpose\n",
      "Geo-code locations in the 2012/2013 CHTS to geographies from *Travel Model One* and *Travel Model Two*.\n",
      "\n",
      "## Status\n",
      "Seems to be working.\n",
      "\n",
      "`TODO` Manually check a handful of results\n",
      "\n",
      "## Versions\n",
      "*Travel Model One*:  Stable TAZ 1454 System\n",
      "\n",
      "*Travel Model Two*:  Version 1.0 of the MAZ + TAZ system, Geo-database provided by PB: `mtctm2zonesRevised` renamed `mtctm2zonesv10`\n"
     ]
    },
    {
     "cell_type": "code",
     "collapsed": false,
     "input": [
      "tm1_geodatabase = 'CSV_TAZ.gdb'\n",
      "tm2_geodatabase = 'mtctm2zonesv10.gdb'"
     ],
     "language": "python",
     "metadata": {},
     "outputs": [],
     "prompt_number": 1
    },
    {
     "cell_type": "markdown",
     "metadata": {},
     "source": [
      "## Execution Steps\n",
      "\n",
      "### Globals"
     ]
    },
    {
     "cell_type": "code",
     "collapsed": false,
     "input": [
      "workspace = 'M:/Data/HomeInterview/2010/Geocoding Engine/'"
     ],
     "language": "python",
     "metadata": {},
     "outputs": [],
     "prompt_number": 2
    },
    {
     "cell_type": "markdown",
     "metadata": {},
     "source": [
      "### Input Files\n",
      "\n",
      "#### 01 Place File"
     ]
    },
    {
     "cell_type": "code",
     "collapsed": false,
     "input": [
      "input_file_name = 'chts2010_place_locations.csv'\n",
      "x_field         = 'dXCORD'\n",
      "y_field         = 'dYCORD'\n",
      "keep_fields     = ['SAMPN','PERNO','PLANO','dXCORD','dYCORD','MAZ_ORIGINAL','TAZ_ORIGINAL','TAZ1454']\n",
      "output_file_name = 'chts2010_place_locations_geo_tm2.csv'"
     ],
     "language": "python",
     "metadata": {},
     "outputs": [],
     "prompt_number": 3
    },
    {
     "cell_type": "code",
     "collapsed": true,
     "input": [
      "%run -i NotebookGoGeocodeTravelModelTwo.py"
     ],
     "language": "python",
     "metadata": {},
     "outputs": [
      {
       "output_type": "stream",
       "stream": "stdout",
       "text": [
        "Step 0:   Processing chts2010_place_locations.csv ...\n",
        "Step 1:   Geo-coding to Travel Model Two Geographies ...\n",
        "Step 1a:  XY event layer created ..."
       ]
      },
      {
       "output_type": "stream",
       "stream": "stdout",
       "text": [
        "\n",
        "Step 1b:  Copying features ..."
       ]
      },
      {
       "output_type": "stream",
       "stream": "stdout",
       "text": [
        "\n",
        "Step 1c:  Geo-coded points to MAZ and TAZ boundaries ..."
       ]
      },
      {
       "output_type": "stream",
       "stream": "stdout",
       "text": [
        "\n",
        "Step 1d:  Write to M:/Data/HomeInterview/2010/Geocoding Engine/gis_geocode.csv ..."
       ]
      },
      {
       "output_type": "stream",
       "stream": "stdout",
       "text": [
        "\n",
        "Step 1e:  Write to M:/Data/HomeInterview/2010/Geocoding Engine/chts2010_place_locations_geo_tm2.csv ..."
       ]
      },
      {
       "output_type": "stream",
       "stream": "stdout",
       "text": [
        "\n",
        "Finished:  OnBoardGeocoding for chts2010_place_locations.csv.\n",
        "\n",
        "\n"
       ]
      }
     ],
     "prompt_number": 4
    },
    {
     "cell_type": "code",
     "collapsed": false,
     "input": [
      "input_file_name = 'chts2010_place_locations.csv'\n",
      "x_field         = 'dXCORD'\n",
      "y_field         = 'dYCORD'\n",
      "keep_fields     = ['SAMPN','PERNO','PLANO','dXCORD','dYCORD','MAZ_ORIGINAL','TAZ_ORIGINAL','TAZ1454']\n",
      "output_file_name = 'chts2010_place_locations_geo_tm1.csv'"
     ],
     "language": "python",
     "metadata": {},
     "outputs": [],
     "prompt_number": 5
    },
    {
     "cell_type": "code",
     "collapsed": false,
     "input": [
      "%run -i NotebookGoGeocodeTravelModelOne.py "
     ],
     "language": "python",
     "metadata": {},
     "outputs": [
      {
       "output_type": "stream",
       "stream": "stdout",
       "text": [
        "Step 0:   Processing chts2010_place_locations.csv ...\n",
        "\n",
        "Step 2:   Geo-coding to Travel Model One Geographies ...\n",
        "Step 2a:  XY event layer created ..."
       ]
      },
      {
       "output_type": "stream",
       "stream": "stdout",
       "text": [
        "\n",
        "Step 2b:  Copying features ..."
       ]
      },
      {
       "output_type": "stream",
       "stream": "stdout",
       "text": [
        "\n",
        "Step 2c:  Geo-coded points to TAZ boundaries ..."
       ]
      },
      {
       "output_type": "stream",
       "stream": "stdout",
       "text": [
        "\n",
        "Step 2d:  Write to M:/Data/HomeInterview/2010/Geocoding Engine/gis_geocode.csv ..."
       ]
      },
      {
       "output_type": "stream",
       "stream": "stdout",
       "text": [
        "\n",
        "Step 2e:  Write to M:/Data/HomeInterview/2010/Geocoding Engine/chts2010_place_locations_geo_tm1.csv ..."
       ]
      },
      {
       "output_type": "stream",
       "stream": "stdout",
       "text": [
        "\n",
        "Finished:  OnBoardGeocoding for chts2010_place_locations.csv.\n",
        "\n",
        "\n"
       ]
      }
     ],
     "prompt_number": 6
    },
    {
     "cell_type": "markdown",
     "metadata": {},
     "source": [
      "#### 02 Household File"
     ]
    },
    {
     "cell_type": "code",
     "collapsed": false,
     "input": [
      "input_file_name = 'chts2010_home_locations.csv'\n",
      "x_field         = 'HXCORD'\n",
      "y_field         = 'HYCORD'\n",
      "keep_fields     = ['SAMPN','HXCORD','HYCORD','MAZ_ORIGINAL','TAZ_ORIGINAL','TAZ1454']\n",
      "output_file_name = 'chts2010_home_locations_geo_tm2.csv'"
     ],
     "language": "python",
     "metadata": {},
     "outputs": [],
     "prompt_number": 7
    },
    {
     "cell_type": "code",
     "collapsed": false,
     "input": [
      "%run -i NotebookGoGeocodeTravelModelTwo.py"
     ],
     "language": "python",
     "metadata": {},
     "outputs": [
      {
       "output_type": "stream",
       "stream": "stdout",
       "text": [
        "Step 0:   Processing chts2010_home_locations.csv ...\n",
        "Step 1:   Geo-coding to Travel Model Two Geographies ...\n",
        "Step 1a:  XY event layer created ..."
       ]
      },
      {
       "output_type": "stream",
       "stream": "stdout",
       "text": [
        "\n",
        "Step 1b:  Copying features ..."
       ]
      },
      {
       "output_type": "stream",
       "stream": "stdout",
       "text": [
        "\n",
        "Step 1c:  Geo-coded points to MAZ and TAZ boundaries ..."
       ]
      },
      {
       "output_type": "stream",
       "stream": "stdout",
       "text": [
        "\n",
        "Step 1d:  Write to M:/Data/HomeInterview/2010/Geocoding Engine/gis_geocode.csv ..."
       ]
      },
      {
       "output_type": "stream",
       "stream": "stdout",
       "text": [
        "\n",
        "Step 1e:  Write to M:/Data/HomeInterview/2010/Geocoding Engine/chts2010_home_locations_geo_tm2.csv ..."
       ]
      },
      {
       "output_type": "stream",
       "stream": "stdout",
       "text": [
        "\n",
        "Finished:  OnBoardGeocoding for chts2010_home_locations.csv.\n",
        "\n",
        "\n"
       ]
      }
     ],
     "prompt_number": 8
    },
    {
     "cell_type": "code",
     "collapsed": false,
     "input": [
      "input_file_name = 'chts2010_home_locations.csv'\n",
      "x_field         = 'HXCORD'\n",
      "y_field         = 'HYCORD'\n",
      "keep_fields     = ['SAMPN','HXCORD','HYCORD','MAZ_ORIGINAL','TAZ_ORIGINAL','TAZ1454']\n",
      "output_file_name = 'chts2010_home_locations_geo_tm1.csv'"
     ],
     "language": "python",
     "metadata": {},
     "outputs": [],
     "prompt_number": 9
    },
    {
     "cell_type": "code",
     "collapsed": false,
     "input": [
      "%run -i NotebookGoGeocodeTravelModelOne.py"
     ],
     "language": "python",
     "metadata": {},
     "outputs": [
      {
       "output_type": "stream",
       "stream": "stdout",
       "text": [
        "Step 0:   Processing chts2010_home_locations.csv ...\n",
        "\n",
        "Step 2:   Geo-coding to Travel Model One Geographies ...\n",
        "Step 2a:  XY event layer created ..."
       ]
      },
      {
       "output_type": "stream",
       "stream": "stdout",
       "text": [
        "\n",
        "Step 2b:  Copying features ..."
       ]
      },
      {
       "output_type": "stream",
       "stream": "stdout",
       "text": [
        "\n",
        "Step 2c:  Geo-coded points to TAZ boundaries ..."
       ]
      },
      {
       "output_type": "stream",
       "stream": "stdout",
       "text": [
        "\n",
        "Step 2d:  Write to M:/Data/HomeInterview/2010/Geocoding Engine/gis_geocode.csv ..."
       ]
      },
      {
       "output_type": "stream",
       "stream": "stdout",
       "text": [
        "\n",
        "Step 2e:  Write to M:/Data/HomeInterview/2010/Geocoding Engine/chts2010_home_locations_geo_tm1.csv ..."
       ]
      },
      {
       "output_type": "stream",
       "stream": "stdout",
       "text": [
        "\n",
        "Finished:  OnBoardGeocoding for chts2010_home_locations.csv.\n",
        "\n",
        "\n"
       ]
      }
     ],
     "prompt_number": 10
    },
    {
     "cell_type": "markdown",
     "metadata": {},
     "source": [
      "#### 03 School Locations File\n",
      "An odd bug in the `arcpy` call came up when running the combined script.  The individual scripts seem to work fine.  I then manually combined in Excel."
     ]
    },
    {
     "cell_type": "code",
     "collapsed": false,
     "input": [
      "input_file_name = 'chts2010_schl_locations.csv'\n",
      "x_field         = 'SXCORD'\n",
      "y_field         = 'SYCORD'\n",
      "keep_fields     = ['SAMPN','PERNO','SXCORD','SYCORD','MAZ_ORIGINAL','TAZ_ORIGINAL','TAZ1454']\n",
      "output_file_name = 'chts2010_schl_locations_geo_tm2.csv'"
     ],
     "language": "python",
     "metadata": {},
     "outputs": [],
     "prompt_number": 11
    },
    {
     "cell_type": "code",
     "collapsed": true,
     "input": [
      "%run -i NotebookGoGeocodeTravelModelTwo.py"
     ],
     "language": "python",
     "metadata": {},
     "outputs": [
      {
       "output_type": "stream",
       "stream": "stdout",
       "text": [
        "Step 0:   Processing chts2010_schl_locations.csv ...\n",
        "Step 1:   Geo-coding to Travel Model Two Geographies ...\n",
        "Step 1a:  XY event layer created ..."
       ]
      },
      {
       "output_type": "stream",
       "stream": "stdout",
       "text": [
        "\n",
        "Step 1b:  Copying features ..."
       ]
      },
      {
       "output_type": "stream",
       "stream": "stdout",
       "text": [
        "\n",
        "Step 1c:  Geo-coded points to MAZ and TAZ boundaries ..."
       ]
      },
      {
       "output_type": "stream",
       "stream": "stdout",
       "text": [
        "\n",
        "Step 1d:  Write to M:/Data/HomeInterview/2010/Geocoding Engine/gis_geocode.csv ..."
       ]
      },
      {
       "output_type": "stream",
       "stream": "stdout",
       "text": [
        "\n",
        "Step 1e:  Write to M:/Data/HomeInterview/2010/Geocoding Engine/chts2010_schl_locations_geo_tm2.csv ..."
       ]
      },
      {
       "output_type": "stream",
       "stream": "stdout",
       "text": [
        "\n",
        "Finished:  OnBoardGeocoding for chts2010_schl_locations.csv.\n",
        "\n",
        "\n"
       ]
      }
     ],
     "prompt_number": 12
    },
    {
     "cell_type": "code",
     "collapsed": false,
     "input": [
      "input_file_name = 'chts2010_schl_locations.csv'\n",
      "x_field         = 'SXCORD'\n",
      "y_field         = 'SYCORD'\n",
      "keep_fields     = ['SAMPN','PERNO','SXCORD','SYCORD','MAZ_ORIGINAL','TAZ_ORIGINAL','TAZ1454']\n",
      "output_file_name = 'chts2010_schl_locations_geo_tm1.csv'"
     ],
     "language": "python",
     "metadata": {},
     "outputs": [],
     "prompt_number": 13
    },
    {
     "cell_type": "code",
     "collapsed": false,
     "input": [
      "%run -i NotebookGoGeocodeTravelModelOne.py "
     ],
     "language": "python",
     "metadata": {},
     "outputs": [
      {
       "output_type": "stream",
       "stream": "stdout",
       "text": [
        "Step 0:   Processing chts2010_schl_locations.csv ...\n",
        "\n",
        "Step 2:   Geo-coding to Travel Model One Geographies ...\n",
        "Step 2a:  XY event layer created ..."
       ]
      },
      {
       "output_type": "stream",
       "stream": "stdout",
       "text": [
        "\n",
        "Step 2b:  Copying features ..."
       ]
      },
      {
       "output_type": "stream",
       "stream": "stdout",
       "text": [
        "\n",
        "Step 2c:  Geo-coded points to TAZ boundaries ..."
       ]
      },
      {
       "output_type": "stream",
       "stream": "stdout",
       "text": [
        "\n",
        "Step 2d:  Write to M:/Data/HomeInterview/2010/Geocoding Engine/gis_geocode.csv ..."
       ]
      },
      {
       "output_type": "stream",
       "stream": "stdout",
       "text": [
        "\n",
        "Step 2e:  Write to M:/Data/HomeInterview/2010/Geocoding Engine/chts2010_schl_locations_geo_tm1.csv ..."
       ]
      },
      {
       "output_type": "stream",
       "stream": "stdout",
       "text": [
        "\n",
        "Finished:  OnBoardGeocoding for chts2010_schl_locations.csv.\n",
        "\n",
        "\n"
       ]
      }
     ],
     "prompt_number": 14
    },
    {
     "cell_type": "markdown",
     "metadata": {},
     "source": [
      "#### 04 Work Locations\n",
      "An odd bug in the `arcpy` call came up when running the combined script.  The individual scripts seem to work fine.  I then manually combined in Excel."
     ]
    },
    {
     "cell_type": "code",
     "collapsed": false,
     "input": [
      "input_file_name = 'chts2010_work_locations.csv'\n",
      "x_field         = 'WXCORD'\n",
      "y_field         = 'WYCORD'\n",
      "keep_fields     = ['SAMPN','PERNO','WXCORD','WYCORD','MAZ_ORIGINAL','TAZ_ORIGINAL','TAZ1454']\n",
      "output_file_name = 'chts2010_work_locations_geo_tm2.csv'"
     ],
     "language": "python",
     "metadata": {},
     "outputs": [],
     "prompt_number": 15
    },
    {
     "cell_type": "code",
     "collapsed": false,
     "input": [
      "%run -i NotebookGoGeocodeTravelModelTwo.py"
     ],
     "language": "python",
     "metadata": {},
     "outputs": [
      {
       "output_type": "stream",
       "stream": "stdout",
       "text": [
        "Step 0:   Processing chts2010_work_locations.csv ...\n",
        "Step 1:   Geo-coding to Travel Model Two Geographies ...\n",
        "Step 1a:  XY event layer created ..."
       ]
      },
      {
       "output_type": "stream",
       "stream": "stdout",
       "text": [
        "\n",
        "Step 1b:  Copying features ..."
       ]
      },
      {
       "output_type": "stream",
       "stream": "stdout",
       "text": [
        "\n",
        "Step 1c:  Geo-coded points to MAZ and TAZ boundaries ..."
       ]
      },
      {
       "output_type": "stream",
       "stream": "stdout",
       "text": [
        "\n",
        "Step 1d:  Write to M:/Data/HomeInterview/2010/Geocoding Engine/gis_geocode.csv ..."
       ]
      },
      {
       "output_type": "stream",
       "stream": "stdout",
       "text": [
        "\n",
        "Step 1e:  Write to M:/Data/HomeInterview/2010/Geocoding Engine/chts2010_work_locations_geo_tm2.csv ..."
       ]
      },
      {
       "output_type": "stream",
       "stream": "stdout",
       "text": [
        "\n",
        "Finished:  OnBoardGeocoding for chts2010_work_locations.csv.\n",
        "\n",
        "\n"
       ]
      }
     ],
     "prompt_number": 16
    },
    {
     "cell_type": "code",
     "collapsed": false,
     "input": [
      "input_file_name = 'chts2010_work_locations.csv'\n",
      "x_field         = 'WXCORD'\n",
      "y_field         = 'WYCORD'\n",
      "keep_fields     = ['SAMPN','PERNO','WXCORD','WYCORD','MAZ_ORIGINAL','TAZ_ORIGINAL','TAZ1454']\n",
      "output_file_name = 'chts2010_work_locations_geo_tm1.csv'"
     ],
     "language": "python",
     "metadata": {},
     "outputs": [],
     "prompt_number": 17
    },
    {
     "cell_type": "code",
     "collapsed": false,
     "input": [
      "%run -i NotebookGoGeocodeTravelModelOne.py "
     ],
     "language": "python",
     "metadata": {},
     "outputs": [
      {
       "output_type": "stream",
       "stream": "stdout",
       "text": [
        "Step 0:   Processing chts2010_work_locations.csv ...\n",
        "\n",
        "Step 2:   Geo-coding to Travel Model One Geographies ...\n",
        "Step 2a:  XY event layer created ..."
       ]
      },
      {
       "output_type": "stream",
       "stream": "stdout",
       "text": [
        "\n",
        "Step 2b:  Copying features ..."
       ]
      },
      {
       "output_type": "stream",
       "stream": "stdout",
       "text": [
        "\n",
        "Step 2c:  Geo-coded points to TAZ boundaries ..."
       ]
      },
      {
       "output_type": "stream",
       "stream": "stdout",
       "text": [
        "\n",
        "Step 2d:  Write to M:/Data/HomeInterview/2010/Geocoding Engine/gis_geocode.csv ..."
       ]
      },
      {
       "output_type": "stream",
       "stream": "stdout",
       "text": [
        "\n",
        "Step 2e:  Write to M:/Data/HomeInterview/2010/Geocoding Engine/chts2010_work_locations_geo_tm1.csv ..."
       ]
      },
      {
       "output_type": "stream",
       "stream": "stdout",
       "text": [
        "\n",
        "Finished:  OnBoardGeocoding for chts2010_work_locations.csv.\n",
        "\n",
        "\n"
       ]
      }
     ],
     "prompt_number": 18
    }
   ],
   "metadata": {}
  }
 ]
}